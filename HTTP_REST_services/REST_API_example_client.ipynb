{
 "cells": [
  {
   "cell_type": "code",
   "execution_count": 8,
   "metadata": {},
   "outputs": [],
   "source": [
    "import requests, os"
   ]
  },
  {
   "cell_type": "code",
   "execution_count": 16,
   "metadata": {},
   "outputs": [],
   "source": [
    "def get_query(endpoint=\"\", fields={}):\n",
    "    api_url = 'https://kooplex-fiek.elte.hu/notebook/wfct0p-rere-wfct0p/report/api/'\n",
    "    if fields:\n",
    "        query_str = \"?\" + \"&\".join([ \"{}={}\".format(k, fields[k]) for k in fields.keys()])\n",
    "        \n",
    "    kw = {\n",
    "    'url': os.path.join(api_url, \"%s\"%(endpoint) + query_str),\n",
    "    #'auth': (user, pwd),\n",
    "    'headers': {\"content-type\": \"application/x-www-form-urlencoded\"},\n",
    "    }\n",
    "\n",
    "    return requests.get(**kw)\n",
    "\n",
    "def post_query(endpoint=\"\", fields={}):\n",
    "    api_url = 'https://kooplex-fiek.elte.hu/notebook/wfct0p-rere-wfct0p/report/api/'\n",
    "    if fields:\n",
    "        query_str = \"?\" + \"&\".join([ \"{}={}\".format(k, fields[k]) for k in fields.keys()])\n",
    "        \n",
    "    kw = {\n",
    "    'url': os.path.join(api_url, \"%s\"%(endpoint) + query_str),\n",
    "    #'auth': (user, pwd),\n",
    "    'headers': {\"content-type\": \"application/x-www-form-urlencoded\"},\n",
    "    }\n",
    "\n",
    "    return requests.post(**kw)"
   ]
  },
  {
   "cell_type": "code",
   "execution_count": 10,
   "metadata": {},
   "outputs": [],
   "source": [
    "endpoint = \"data\"\n",
    "fields = {\"from\":1920, \"until\":1930}\n",
    "res = get_query(endpoint, fields)"
   ]
  },
  {
   "cell_type": "code",
   "execution_count": 13,
   "metadata": {},
   "outputs": [
    {
     "data": {
      "text/plain": [
       "<Response [200]>"
      ]
     },
     "execution_count": 13,
     "metadata": {},
     "output_type": "execute_result"
    }
   ],
   "source": [
    "res"
   ]
  },
  {
   "cell_type": "code",
   "execution_count": 14,
   "metadata": {},
   "outputs": [
    {
     "data": {
      "text/plain": [
       "{'queryParams': {'from': '1920', 'until': '1930'},\n",
       " 'data': [{'date': '1920', 'metric tons per capita': 1.8389462369999998},\n",
       "  {'date': '1921', 'metric tons per capita': 1.5709769269999998},\n",
       "  {'date': '1922', 'metric tons per capita': 1.63807123},\n",
       "  {'date': '1923', 'metric tons per capita': 1.862156065},\n",
       "  {'date': '1924', 'metric tons per capita': 1.82983176},\n",
       "  {'date': '1925', 'metric tons per capita': 1.832855088},\n",
       "  {'date': '1926', 'metric tons per capita': 1.8274254019999998},\n",
       "  {'date': '1927', 'metric tons per capita': 1.9517455259999998},\n",
       "  {'date': '1928', 'metric tons per capita': 1.934357317},\n",
       "  {'date': '1929', 'metric tons per capita': 2.054863137},\n",
       "  {'date': '1930', 'metric tons per capita': 1.866913043}]}"
      ]
     },
     "execution_count": 14,
     "metadata": {},
     "output_type": "execute_result"
    }
   ],
   "source": [
    "res.json()"
   ]
  },
  {
   "cell_type": "code",
   "execution_count": 15,
   "metadata": {},
   "outputs": [
    {
     "data": {
      "text/plain": [
       "[{'date': '1920', 'metric tons per capita': 1.8389462369999998},\n",
       " {'date': '1921', 'metric tons per capita': 1.5709769269999998},\n",
       " {'date': '1922', 'metric tons per capita': 1.63807123},\n",
       " {'date': '1923', 'metric tons per capita': 1.862156065},\n",
       " {'date': '1924', 'metric tons per capita': 1.82983176},\n",
       " {'date': '1925', 'metric tons per capita': 1.832855088},\n",
       " {'date': '1926', 'metric tons per capita': 1.8274254019999998},\n",
       " {'date': '1927', 'metric tons per capita': 1.9517455259999998},\n",
       " {'date': '1928', 'metric tons per capita': 1.934357317},\n",
       " {'date': '1929', 'metric tons per capita': 2.054863137},\n",
       " {'date': '1930', 'metric tons per capita': 1.866913043}]"
      ]
     },
     "execution_count": 15,
     "metadata": {},
     "output_type": "execute_result"
    }
   ],
   "source": [
    "res.json()['data']"
   ]
  },
  {
   "cell_type": "code",
   "execution_count": 20,
   "metadata": {},
   "outputs": [
    {
     "name": "stdout",
     "output_type": "stream",
     "text": [
      "<Response [200]>\n",
      "{\"Message\": \"upload successful\"}\n",
      "\n"
     ]
    }
   ],
   "source": [
    "endpoint = \"data\"\n",
    "fields = {\"date\":2016, \"value\":2.5}\n",
    "res = post_query(endpoint, fields)\n",
    "print(res)\n",
    "print(res.text)"
   ]
  },
  {
   "cell_type": "code",
   "execution_count": 21,
   "metadata": {},
   "outputs": [
    {
     "name": "stdout",
     "output_type": "stream",
     "text": [
      "[{'date': '2014', 'metric tons per capita': 4.977830378}, {'date': '2015', 'metric tons per capita': 4.922724362}, {'date': '2016', 'metric tons per capita': 2.5}]\n"
     ]
    }
   ],
   "source": [
    "endpoint = \"data\"\n",
    "fields = {\"from\":2014, \"until\":2017}\n",
    "res = get_query(endpoint, fields)\n",
    "print(res.json()['data'])"
   ]
  },
  {
   "cell_type": "code",
   "execution_count": null,
   "metadata": {},
   "outputs": [],
   "source": []
  }
 ],
 "metadata": {
  "kernelspec": {
   "display_name": "Python 3",
   "language": "python",
   "name": "python3"
  },
  "language_info": {
   "codemirror_mode": {
    "name": "ipython",
    "version": 3
   },
   "file_extension": ".py",
   "mimetype": "text/x-python",
   "name": "python",
   "nbconvert_exporter": "python",
   "pygments_lexer": "ipython3",
   "version": "3.7.6"
  }
 },
 "nbformat": 4,
 "nbformat_minor": 4
}
