{
 "cells": [
  {
   "cell_type": "markdown",
   "metadata": {},
   "source": [
    "## How to run this service\n",
    "\n",
    "* Launch a terminal and enter into the directory, that contains this notebook\n",
    "* then type\n",
    "```\n",
    "preview-nb-api.sh API-worksheet.ipynb \n",
    "```\n",
    "* the first line of output will tell you the URL of the API"
   ]
  },
  {
   "cell_type": "code",
   "execution_count": null,
   "metadata": {},
   "outputs": [],
   "source": [
    "import json\n",
    "import base64\n",
    "import pandas as pd"
   ]
  },
  {
   "cell_type": "code",
   "execution_count": 63,
   "metadata": {},
   "outputs": [],
   "source": [
    "fname = 'Globalco2emissions.csv'\n",
    "#fname = \"Global CO2 emissions - CDIAC and UN Population.csv\"\n",
    "df = pd.read_csv(fname, parse_dates=[1])\n",
    "df['Year'] = pd.to_datetime( df['Year'])\n",
    "#df['Year'] = df['Year'].dt.strftime('%Y')"
   ]
  },
  {
   "cell_type": "code",
   "execution_count": null,
   "metadata": {},
   "outputs": [],
   "source": [
    "REQUEST = json.dumps({\n",
    " 'args' : {}\n",
    "})"
   ]
  },
  {
   "cell_type": "code",
   "execution_count": null,
   "metadata": {},
   "outputs": [],
   "source": [
    "# GET /help\n",
    "help_txt = (\"\"\"\n",
    "<h2>HELP</h2>\n",
    "<h4>GET /info</h4>\n",
    "Description: Retrieve either some informatin about the dataset\n",
    "Requires: No parameters required\n",
    "Example query: /api/info\n",
    "Example result: {\"name\": \"Global CO2 emissions - CDIAC and UN Population\", \"title\": \"Global CO2 emissions .... }\n",
    "\n",
    "<h4>GET /data</h4>\n",
    "Description: Retrieves either the all the data, or the from and until the given dates\n",
    "Requires: \n",
    "<ul>\n",
    "<li> from (int)</li>\n",
    "<li> until (int)</li>\n",
    "</ul>\n",
    "Returns: \n",
    "<ul>\n",
    "<li> year</li>\n",
    "<li> metric tons per capita </li>\n",
    "</ul>\n",
    "Example query: /api/data?from=1965&until=1988\n",
    "\n",
    "<h4>POST /data/</h4>\n",
    "Description: Adds an extra data point into the dataset for the given 'year' with the given 'value'\n",
    "Requires: \n",
    "<ul>\n",
    "<li> year (int) </li>\n",
    "<li> value (float)</li>\n",
    "</ul>\n",
    "Returns: \n",
    "<ul>\n",
    "<li> Status 200: upload successful</li>\n",
    "</ul>\n",
    "Example query: /api/data?year=2016&value=3.9152\n",
    "\n",
    "<h4>PUT /data/</h4>\n",
    "Description: Replaces anexisting data point in the dataset for the given 'year' with the given 'value'\n",
    "Requires: \n",
    "<ul>\n",
    "<li> year (int) </li>\n",
    "<li> value (float)</li>\n",
    "</ul>\n",
    "Returns: \n",
    "<ul>\n",
    "<li> Status 200: upload successful</li>\n",
    "</ul>\n",
    "Example query: /api/data?year=2016&value=3.9152\n",
    "\n",
    "<h4>GET /agg</h4>\n",
    "<ul>\n",
    "<li>Description: Retrieves an aggregated sum of the CO2 consumption for the last <years>. </li>\n",
    "<li>Requires: years </li>\n",
    "<li>Returns: a number</li>\n",
    "<li>Example query: /api/agg?interval=6</li>\n",
    "</ul>\n",
    "\"\"\")\n",
    "help_txt=help_txt.replace('\\n',\"\")\n",
    "\n",
    "print(json.dumps(help_txt))"
   ]
  },
  {
   "cell_type": "code",
   "execution_count": null,
   "metadata": {},
   "outputs": [],
   "source": [
    "# ResponseInfo GET /help\n",
    "print(json.dumps({\n",
    "    \"headers\" : {\n",
    "        \"Content-Type\" : \"text/html\"\n",
    "    },\n",
    "    \"status\" : 200\n",
    "}))\n"
   ]
  },
  {
   "cell_type": "code",
   "execution_count": null,
   "metadata": {},
   "outputs": [],
   "source": [
    "# GET /api/info\n",
    "req = json.loads(REQUEST)\n",
    "args = req['args']\n",
    "\n",
    "resp = {\n",
    "    \"name\":\"Global CO2 emissions - CDIAC and UN Population\",\n",
    "    \"title\":\"Global CO2 emissions - CDIAC and UN Population\",\n",
    "    \"dataset_id\": 652,\n",
    "    \"description\":\"Per capita CO2 emissions have been calculated based on the combination of global emissions data from CDIAC (described below), and UN Population Prospects data.\\r\\n\\r\\nPopulation data was derived from: The History Database of the Global Environment (HYDE) collected the data by earlier publications. For the 'OurWorldInData'-series we used various sources: The data for the period before 1900 are taken from the History Database of the Global Environment (HYDE). The data for the World Population between 1900 and 1940 is taken from the UN puplication 'The World at Six Billion'. The annual data for the World Population between 1950 and 2015 is taken from the UN's World Population Prospects: The 2015 Revision. It is the series 'Total Population - Both Sexes' online available at: https://esa.un.org/unpd/wpp/.\\r\\n\\r\\nEmissions data have been sourced from the Carbon Dioxide Information Analysis Centre (CDIAC) database. Emissions data have been converted from units of carbon to carbon dioxide (CO2) using a conversion factor of 3.67.\\r\\n\\r\\nCDIAC denote a \\\"statistical difference\\\" component which has been included in this data. This statistical difference represents the difference between estimated global CO2 emissions and the sum of national totals. Estimates of CO2 emissions show that the global total of emissions is not equal to the sum of emissions from all countries. This is introduced in several cases: emissions within international territories, which are included in global totals but not attributed to individual countries; inconsistent national reporting where global import and export data is imbalanced; and differing treatment of non-fuel uses of hydrocarbons.\\r\\n\\r\\nFull methodology on global, regional, national and statistical difference estimations can be found in Le Quere et al. (2016): Le Quéré, C., Andrew, R. M., Canadell, J. G., Sitch, S., Korsbakken, J. I., Peters, G. P., ... & Keeling, R. F. (2016). Global carbon budget 2016. Earth System Science Data, 8(2), 605. Available at: doi:10.5194/essd-8-605-2016.\",\n",
    "    \"sources\": {\n",
    "      \"name\": \"Global CO2 emissions - CDIAC and UN Population\",\n",
    "      \"dataPublishedBy\": \"Carbon Dioxide Information Analysis Center (CDIAC)\",\n",
    "      \"dataPublisherSource\": \"Boden, T. A. and Andres, R. J.: Global, Regional, and National Fossil-Fuel CO2 Emissions. Oak Ridge National Laboratory, US Department of Energy, Oak Ridge, Tenn., USA (2016)\",\n",
    "      \"link\": \"http://cdiac.ornl.gov/CO2_Emission/\",\n",
    "      \"retrievedDate\": \"31/07/2017\"\n",
    "    }\n",
    "}\n",
    "\n",
    "\n",
    "print(json.dumps(resp))"
   ]
  },
  {
   "cell_type": "code",
   "execution_count": null,
   "metadata": {},
   "outputs": [],
   "source": [
    "# ResponseInfo GET /api/info\n",
    "print(json.dumps({\n",
    "    \"headers\" : {\n",
    "        \"Content-Type\" : \"application/json\"\n",
    "    },\n",
    "    \"status\" : 200\n",
    "}))"
   ]
  },
  {
   "cell_type": "code",
   "execution_count": null,
   "metadata": {},
   "outputs": [],
   "source": [
    "# GET /api/data\n",
    "req = json.loads(REQUEST)\n",
    "args = req['args']\n",
    "\n",
    "if not \"from\" in args or not \"until\" in args:\n",
    "    response = {\"Error\": \"Missing argument. Expecting both 'from' and 'until'\"}\n",
    "    print (json.dumps(response))\n",
    "else:\n",
    "    date_from = pd.to_datetime(args[\"from\"][0])\n",
    "    date_until = pd.to_datetime(args[\"until\"][0])\n",
    "    if date_from >= date_until:\n",
    "        response = {\"queryParams\" : query_params_dict, \"message\" : \"'from' should be an earlier year than until\"}\n",
    "        print (json.dumps (response))\n",
    "    elif (date_from > df.Year.max()) or (date_until<df.Year.min()):\n",
    "        query_params_dict = {\"from\" : args[\"from\"][0], \"until\" : args[\"until\"][0]}\n",
    "        response = {\n",
    "            \"queryParams\" : query_params_dict,\n",
    "            \"message\" : \"valid range for 'from' and 'until' is between {} and {} \".format(df['Year'].dt.strftime('%Y').min(), \n",
    "                                                                                          df['Year'].dt.strftime('%Y').max())\n",
    "        }\n",
    "        print (json.dumps (response))\n",
    "    else:\n",
    "        rows = df[(df[\"Year\"] >= date_from) &\n",
    "                             (df[\"Year\"] <= date_until)][[\"Year\", \"Per capita CO2 emissions (CDIAC and UN Population)\"]].copy()\n",
    "        data_dict = [{\"date\" : date.strftime('%Y'), \"metric tons per capita\" : numbers} for date, numbers in rows.values ]\n",
    "        query_params_dict = {\"from\" : args[\"from\"][0], \"until\" : args[\"until\"][0]}\n",
    "        response = {\n",
    "            \"queryParams\" : query_params_dict, \n",
    "            \"data\" : data_dict\n",
    "        }\n",
    "        print (json.dumps (response))\n",
    "\n",
    "        \n",
    "# curl -X GET \"https://kooplex-edu.elte.hu/notebook/wfct0p-rere-wfct0p/report/api/data?from=1718&until=1919\""
   ]
  },
  {
   "cell_type": "code",
   "execution_count": null,
   "metadata": {},
   "outputs": [],
   "source": [
    "# ResponseInfo GET /api/data\n",
    "print(json.dumps({\n",
    "    \"headers\" : {\n",
    "        \"Content-Type\" : \"application/json\"\n",
    "    },\n",
    "    \"status\" : 200\n",
    "}))"
   ]
  },
  {
   "cell_type": "code",
   "execution_count": null,
   "metadata": {},
   "outputs": [],
   "source": [
    "## Insert new data with POST"
   ]
  },
  {
   "cell_type": "code",
   "execution_count": null,
   "metadata": {},
   "outputs": [],
   "source": [
    "# PSTOST /api/data\n",
    "req = json.loads(REQUEST)\n",
    "args = req['args']\n",
    "\n",
    "if not \"date\" in args or not \"value\" in args:\n",
    "    response = { \"Error\" : \"Missing argument. Expecting both 'date' and 'value'\" }\n",
    "    print (json.dumps (response))\n",
    "else:\n",
    "    date = args[\"date\"][0]\n",
    "    value = float(args[\"value\"][0])\n",
    "    if (df.Year.dt.strftime(\"%Y\")==date).sum():\n",
    "        response = {\n",
    "            \"Error\" : \"'date' should not be an existing value\"\n",
    "            }\n",
    "        print (json.dumps (response))\n",
    "    else:\n",
    "        new_row = {'Year': pd.to_datetime(date),\n",
    "                   'CO2 emissions (CDIAC and UN Population)': value,\n",
    "                   'Per capita CO2 emissions (CDIAC and UN Population)': value,\n",
    "                   'Entity': 'World'}\n",
    "        df = df.append(new_row, ignore_index=True)\n",
    "        df.to_csv(fname, index=False, index_label=None)\n",
    "        response = {\n",
    "            \"Message\" : \"upload successful\"\n",
    "        }\n",
    "        print (json.dumps (response))\n",
    "\n",
    "\n",
    "# curl -X POST \"https://kooplex-edu.elte.hu/notebook/wfct0p-rere-wfct0p/report/api/data?date=1718&value=2.324\""
   ]
  },
  {
   "cell_type": "code",
   "execution_count": null,
   "metadata": {},
   "outputs": [],
   "source": [
    "# ResponseInfo POST /api/data\n",
    "print(json.dumps({\n",
    "    \"headers\" : {\n",
    "        \"Content-Type\" : \"application/json\"\n",
    "    },\n",
    "    \"status\" : 200\n",
    "}))"
   ]
  },
  {
   "cell_type": "code",
   "execution_count": null,
   "metadata": {},
   "outputs": [],
   "source": [
    "## Replace existing data with PUT"
   ]
  },
  {
   "cell_type": "code",
   "execution_count": null,
   "metadata": {},
   "outputs": [],
   "source": [
    "# PUT /api/data\n",
    "req = json.loads(REQUEST)\n",
    "args = req['args']\n",
    "\n",
    "if not \"date\" in args or not \"value\" in args:\n",
    "    response = {\n",
    "    \"Error\" : \"Missing argument. Expecting both 'date' and 'value'\"\n",
    "    }\n",
    "    print (json.dumps (response))\n",
    "else:\n",
    "    date = args[\"date\"][0]\n",
    "    value = float(args[\"value\"][0])\n",
    "    if not (df.Year.dt.strftime(\"%Y\")==date).sum():\n",
    "        response = {\n",
    "            \"Error\" : \"'date' should be an existing one\"\n",
    "            }\n",
    "        print (json.dumps (response))\n",
    "    else:\n",
    "        df.loc[df.Year.dt.strftime(\"%Y\")==date, 'Per capita CO2 emissions (CDIAC and UN Population)'] = value\n",
    "        df.to_csv(fname, index=False, index_label=None)\n",
    "        response = {\n",
    "            \"Message\" : \"Data has been changed\",\n",
    "            \"Year\": date,\n",
    "            \"New value\": value\n",
    "        }\n",
    "        print (json.dumps (response))"
   ]
  },
  {
   "cell_type": "code",
   "execution_count": null,
   "metadata": {},
   "outputs": [],
   "source": [
    "# GET /api/agg\n",
    "req = json.loads(REQUEST)\n",
    "args = req['args']\n",
    "\n",
    "response = {\n",
    "    \"Error\" : \"This function is not implemented yet\" \n",
    "}\n",
    "print(json.dumps (response))"
   ]
  },
  {
   "cell_type": "code",
   "execution_count": null,
   "metadata": {},
   "outputs": [],
   "source": [
    "# # GET /api/image\n",
    "# req = json.loads(REQUEST)\n",
    "# args = req['args']\n",
    "\n",
    "# import base64\n",
    "\n",
    "# with open(\"images/outerhebrydes.jpeg\",'rb') as i:\n",
    "#     img = i.read()\n",
    "#     img_encoded = base64.encodebytes(img).decode()\n",
    "\n",
    "# print(json.dumps(img_encoded))"
   ]
  },
  {
   "cell_type": "code",
   "execution_count": null,
   "metadata": {},
   "outputs": [],
   "source": [
    "# # ResponseInfo GET /api/image\n",
    "# print(json.dumps({\n",
    "#     \"headers\" : {\n",
    "#         \"Content-Type\" : \"image/jpeg\"\n",
    "#     },\n",
    "#     \"status\" : 200\n",
    "# }))"
   ]
  },
  {
   "cell_type": "code",
   "execution_count": null,
   "metadata": {},
   "outputs": [],
   "source": [
    "# GET /:nothingfound\n",
    "\n",
    "print (\"You seem lost, try /help\")"
   ]
  },
  {
   "cell_type": "code",
   "execution_count": null,
   "metadata": {},
   "outputs": [],
   "source": [
    "# GET /\n",
    "\n",
    "print (\"You seem lost, try /help\")"
   ]
  },
  {
   "cell_type": "code",
   "execution_count": null,
   "metadata": {},
   "outputs": [],
   "source": []
  }
 ],
 "metadata": {
  "kernelspec": {
   "display_name": "Python 3",
   "language": "python",
   "name": "python3"
  },
  "language_info": {
   "codemirror_mode": {
    "name": "ipython",
    "version": 3
   },
   "file_extension": ".py",
   "mimetype": "text/x-python",
   "name": "python",
   "nbconvert_exporter": "python",
   "pygments_lexer": "ipython3",
   "version": "3.7.3"
  }
 },
 "nbformat": 4,
 "nbformat_minor": 4
}
