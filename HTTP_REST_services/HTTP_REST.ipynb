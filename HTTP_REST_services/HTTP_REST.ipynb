{
 "cells": [
  {
   "cell_type": "markdown",
   "metadata": {},
   "source": [
    "# HTTP Protocol\n",
    "https://en.wikipedia.org/wiki/Hypertext_Transfer_Protocol\n",
    "\n",
    "https://www.ntu.edu.sg/home/ehchua/programming/webprogramming/HTTP_Basics.html"
   ]
  },
  {
   "cell_type": "markdown",
   "metadata": {},
   "source": [
    "# Representational state transfer\n",
    "\n",
    "## REST services\n",
    "\n",
    "https://en.wikipedia.org/wiki/Representational_state_transfer"
   ]
  },
  {
   "cell_type": "markdown",
   "metadata": {},
   "source": [
    "## How to build a REST API in python\n",
    "\n",
    "* flask\n",
    "https://blog.miguelgrinberg.com/post/designing-a-restful-api-with-python-and-flask\n",
    "* jupyter notebook\n",
    "https://www.pybloggers.com/2016/01/jupyter-notebooks-as-restful-microservices/"
   ]
  },
  {
   "cell_type": "markdown",
   "metadata": {
    "slideshow": {
     "slide_type": "slide"
    }
   },
   "source": [
    "## REST API Documentation\n",
    "\n",
    "* it needs to be well documented, so users have an immediately overview of the whole and can understand its structure \n",
    "* needs to have example queries\n",
    "* return messages should be meaningful"
   ]
  },
  {
   "cell_type": "markdown",
   "metadata": {},
   "source": [
    "## RES Examples\n",
    "\n",
    "### Airvisual\n",
    "https://www.iqair.com/air-pollution-data-api\n",
    "    \n",
    "\n",
    "### Chembl\n",
    "https://www.ebi.ac.uk/chembl/api/data/docs"
   ]
  },
  {
   "cell_type": "markdown",
   "metadata": {},
   "source": [
    "### Transferring images - some help\n",
    "\n",
    "You can only send text via the api. This data needs to be downloaded and converted back.\n",
    "\n",
    "curl https://kooplex-edu.elte.hu/notebook/wfct0p-dataexplvisu/report/img > img.png\n",
    "\n",
    "And this is how you convert it back to png\n",
    "``` python\n",
    "import base64\n",
    "import json\n",
    "\n",
    "with open(\"img.png\",'r') as i:\n",
    "    imgstr = json.loads(i.read())\n",
    "    img_encoded = base64.decodebytes(imgstr.encode())\n",
    "\n",
    "    # Then maybe write it to a file\n",
    "    with open(\"t.png\",'wb') as t:\n",
    "        t.write(img_encoded)\n"
   ]
  }
 ],
 "metadata": {
  "kernelspec": {
   "display_name": "Python 3",
   "language": "python",
   "name": "python3"
  },
  "language_info": {
   "codemirror_mode": {
    "name": "ipython",
    "version": 3
   },
   "file_extension": ".py",
   "mimetype": "text/x-python",
   "name": "python",
   "nbconvert_exporter": "python",
   "pygments_lexer": "ipython3",
   "version": "3.7.6"
  }
 },
 "nbformat": 4,
 "nbformat_minor": 4
}
