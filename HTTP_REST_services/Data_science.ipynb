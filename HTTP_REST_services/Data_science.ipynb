{
 "cells": [
  {
   "cell_type": "markdown",
   "metadata": {
    "slideshow": {
     "slide_type": "slide"
    }
   },
   "source": [
    "[The new recruitment under PaNOSC European project](http://psi-k.net/jobs/new-phd-position-panosc-european-project/) ... in ELI-ALPS, Hungary.\n",
    "He/she will be working on the following areas:\n",
    "* Performing DFT. TDDFT, MD simulations for addressing different photon-matter interactions.\n",
    "* Contributing to the database utilizable for PaNOSC-compatible e-infrastructure software packages.\n",
    "* Involving in simulations of the various parts and processes involved in complex experiments, data acquisition and analysis tools.\n",
    "* **Web-based efficient and interactive visualizations of outputs**\n",
    "* Contributing to generating teaching materials for PaNOSC service users, and in training of the e-learning virtual platforms<br>\n",
    "Background of the candidate/ Qualification Requirements :\n",
    "* Master’s degree in Physics, Mathematics, Computer Science, Engineering or a related field.\n",
    "* Good programming language in Python, C/C++, Java\n",
    "* **Experience with at least some libraries and tools from the scientific computing Python ecosystem such as numpy, scipy, matplotlib, pandas, ploty, bokeh, and h5py.**\n",
    "* Experience to utilise available softwares in Python, Fortran, C/C++, Java\n",
    "* Experience in developing simulation/modelling software is a plus.\n",
    "* Knowledge of X-ray optics is a plus.\n",
    "* Experience in software engineering methods for computational and data science."
   ]
  },
  {
   "cell_type": "code",
   "execution_count": null,
   "metadata": {},
   "outputs": [],
   "source": []
  },
  {
   "cell_type": "markdown",
   "metadata": {
    "slideshow": {
     "slide_type": "slide"
    }
   },
   "source": [
    "https://www.thelancet.com/journals/laninf/article/PIIS1473-3099(20)30120-1/fulltext\n",
    "\n",
    "<img src=\"images/jhu.png\" alt=\"Drawing\" style=\"width: 800px;\"/>\n",
    "<img src=\"images/Lancet.png\" alt=\"Drawing\" style=\"width: 800px;\"/>\n"
   ]
  },
  {
   "cell_type": "markdown",
   "metadata": {
    "slideshow": {
     "slide_type": "subslide"
    }
   },
   "source": [
    "The FAIR Guiding Principles for scientific data management and stewardship\n",
    "https://www.nature.com/articles/sdata201618\n",
    "https://www.panosc.eu/data-policy/fair-principles/\n",
    "\n",
    "SQL crystallography\n",
    "https://www.crystallography.net/cod/1000118.html\n",
    "\n",
    "FAIR website\n",
    "https://fairsharing.org/\n",
    "\n",
    "Example for a selfexplanatory database, sqllike\n",
    "Napoleonic Battles\n",
    "https://datahub.io/andrejjh/junibis_data\n",
    "\n",
    "Heliophysics dataportal\n",
    "https://cdaweb.gsfc.nasa.gov/WebServices/REST/\n",
    "https://heliophysicsdata.gsfc.nasa.gov/websearch/dispatcher\n"
   ]
  }
 ],
 "metadata": {
  "kernelspec": {
   "display_name": "Python 3",
   "language": "python",
   "name": "python3"
  },
  "language_info": {
   "codemirror_mode": {
    "name": "ipython",
    "version": 3
   },
   "file_extension": ".py",
   "mimetype": "text/x-python",
   "name": "python",
   "nbconvert_exporter": "python",
   "pygments_lexer": "ipython3",
   "version": "3.7.6"
  }
 },
 "nbformat": 4,
 "nbformat_minor": 4
}
