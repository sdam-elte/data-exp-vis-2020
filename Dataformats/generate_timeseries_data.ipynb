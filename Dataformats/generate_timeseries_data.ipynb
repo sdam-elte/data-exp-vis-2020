{
 "cells": [
  {
   "cell_type": "markdown",
   "metadata": {},
   "source": [
    "Some imports"
   ]
  },
  {
   "cell_type": "code",
   "execution_count": 1,
   "metadata": {
    "ExecuteTime": {
     "end_time": "2018-05-18T06:52:11.862704Z",
     "start_time": "2018-05-18T06:52:10.431273Z"
    }
   },
   "outputs": [
    {
     "name": "stdout",
     "output_type": "stream",
     "text": [
      "Populating the interactive namespace from numpy and matplotlib\n"
     ]
    }
   ],
   "source": [
    "%pylab inline\n",
    "from ipywidgets import *\n",
    "import scipy.linalg as sl\n",
    "from scipy.special import jn\n",
    "import scipy.sparse as ss\n",
    "import h5py\n",
    "import tqdm"
   ]
  },
  {
   "cell_type": "markdown",
   "metadata": {},
   "source": [
    "Chebyshev time propagation"
   ]
  },
  {
   "cell_type": "code",
   "execution_count": 2,
   "metadata": {
    "ExecuteTime": {
     "end_time": "2018-05-18T06:52:13.782307Z",
     "start_time": "2018-05-18T06:52:13.764877Z"
    }
   },
   "outputs": [],
   "source": [
    "def timeprop_cheb(psi,H,dt,num_cheb=20):\n",
    "    '''\n",
    "    Propagate state psi acording to H for a time dt.\n",
    "    Uses Chebyshev scheme. Appropriate for generic systems\n",
    "    '''    \n",
    "    cv=2*jn(arange(num_cheb+1),dt)\n",
    "    cv[0]=cv[0]/2\n",
    "    psi_m2=psi\n",
    "    psi_m1=-1.0j*H*psi\n",
    "    w=cv[0]*psi_m2+cv[1]*psi_m1\n",
    "    for i in arange(2,num_cheb):\n",
    "        psi_i=-2.0j*H*psi_m1+psi_m2\n",
    "        w=w+cv[i]*psi_i\n",
    "        psi_m2=psi_m1\n",
    "        psi_m1=psi_i\n",
    "    return w"
   ]
  },
  {
   "cell_type": "markdown",
   "metadata": {},
   "source": [
    "Hamiltonian generation"
   ]
  },
  {
   "cell_type": "code",
   "execution_count": 3,
   "metadata": {
    "ExecuteTime": {
     "end_time": "2018-05-18T06:52:15.656508Z",
     "start_time": "2018-05-18T06:52:15.412055Z"
    }
   },
   "outputs": [],
   "source": [
    "dim=50\n",
    "idm=ss.eye(dim);\n",
    "odm=ss.diags(-ones(dim-1),1)+ss.diags(-ones(dim-1),-1);\n",
    "H=ss.kron(idm,ss.kron(idm,odm)+ss.kron(odm,idm))+ss.kron(odm,ss.diags(-ones(dim*dim),0))"
   ]
  },
  {
   "cell_type": "markdown",
   "metadata": {},
   "source": [
    "Initial wavefunction generation as a complex gaussian. "
   ]
  },
  {
   "cell_type": "code",
   "execution_count": 4,
   "metadata": {
    "ExecuteTime": {
     "end_time": "2018-05-18T06:52:20.124371Z",
     "start_time": "2018-05-18T06:52:20.076475Z"
    }
   },
   "outputs": [
    {
     "name": "stdout",
     "output_type": "stream",
     "text": [
      "CPU times: user 0 ns, sys: 0 ns, total: 0 ns\n",
      "Wall time: 20.3 µs\n"
     ]
    }
   ],
   "source": [
    "%time\n",
    "x,y,z=mgrid[0:dim,0:dim,0:dim]"
   ]
  },
  {
   "cell_type": "code",
   "execution_count": 5,
   "metadata": {
    "ExecuteTime": {
     "end_time": "2018-05-18T06:52:22.660302Z",
     "start_time": "2018-05-18T06:52:22.137546Z"
    }
   },
   "outputs": [],
   "source": [
    "sigma=10\n",
    "psi0=exp((-(x-dim/2)**2-(y-dim/2)**2-(z-dim/2)**2)/sigma**2)*exp(1j*x*0.2)\n",
    "h5f = h5py.File('psi_t0.h5', 'w')\n",
    "h5f.create_dataset('psi', data=abs(psi0)**2)\n",
    "h5f.close()\n",
    "\n",
    "psi0=psi0.reshape((dim**3,1))\n",
    "psi0=psi0/norm(psi0)"
   ]
  },
  {
   "cell_type": "markdown",
   "metadata": {
    "collapsed": true
   },
   "source": [
    "Run time evolution and dump results in hdf5 files"
   ]
  },
  {
   "cell_type": "code",
   "execution_count": 6,
   "metadata": {
    "ExecuteTime": {
     "end_time": "2018-05-18T06:53:59.672155Z",
     "start_time": "2018-05-18T06:52:25.969212Z"
    }
   },
   "outputs": [
    {
     "data": {
      "application/vnd.jupyter.widget-view+json": {
       "model_id": "334fc1f1e2624b6f99972e4ee09ebf55",
       "version_major": 2,
       "version_minor": 0
      },
      "text/plain": [
       "A Jupyter Widget"
      ]
     },
     "metadata": {},
     "output_type": "display_data"
    },
    {
     "name": "stdout",
     "output_type": "stream",
     "text": [
      "\n"
     ]
    }
   ],
   "source": [
    "dt=0.5\n",
    "for ti in tqdm.tqdm_notebook(range(300)):\n",
    "    psi=timeprop_cheb(psi0,H,dt,num_cheb=40)\n",
    "    h5f = h5py.File('psi_t_'+str(ti).zfill(5)+'.h5', 'w')\n",
    "    h5f.create_dataset('psi', data=abs(psi.reshape((dim,dim,dim)))**2)\n",
    "    h5f.close()\n",
    "    psi0=psi"
   ]
  },
  {
   "cell_type": "code",
   "execution_count": 7,
   "metadata": {
    "collapsed": true
   },
   "outputs": [],
   "source": [
    "!rm psi_t*"
   ]
  },
  {
   "cell_type": "code",
   "execution_count": 7,
   "metadata": {
    "ExecuteTime": {
     "end_time": "2018-05-18T07:04:51.056162Z",
     "start_time": "2018-05-18T07:03:17.800727Z"
    }
   },
   "outputs": [],
   "source": [
    "dt=0.5\n",
    "for ti in range(300):\n",
    "    psi=timeprop_cheb(psi0,H,dt,num_cheb=40)\n",
    "    h5f = h5py.File('psi_t_'+str(ti).zfill(5)+'.h5', 'w')\n",
    "    h5f.create_dataset('psi', data=abs(psi.reshape((dim,dim,dim)))**2)\n",
    "    h5f.close()\n",
    "    psi0=psi"
   ]
  },
  {
   "cell_type": "code",
   "execution_count": null,
   "metadata": {},
   "outputs": [],
   "source": []
  }
 ],
 "metadata": {
  "hide_input": false,
  "kernelspec": {
   "display_name": " conda_python36",
   "language": "python",
   "name": "conda_python36"
  },
  "language_info": {
   "codemirror_mode": {
    "name": "ipython",
    "version": 3
   },
   "file_extension": ".py",
   "mimetype": "text/x-python",
   "name": "python",
   "nbconvert_exporter": "python",
   "pygments_lexer": "ipython3",
   "version": "3.6.4"
  },
  "latex_envs": {
   "bibliofile": "biblio.bib",
   "cite_by": "apalike",
   "current_citInitial": 1,
   "eqLabelWithNumbers": true,
   "eqNumInitial": 0
  },
  "varInspector": {
   "cols": {
    "lenName": 16,
    "lenType": 16,
    "lenVar": 40
   },
   "kernels_config": {
    "python": {
     "delete_cmd_postfix": "",
     "delete_cmd_prefix": "del ",
     "library": "var_list.py",
     "varRefreshCmd": "print(var_dic_list())"
    },
    "r": {
     "delete_cmd_postfix": ") ",
     "delete_cmd_prefix": "rm(",
     "library": "var_list.r",
     "varRefreshCmd": "cat(var_dic_list()) "
    }
   },
   "types_to_exclude": [
    "module",
    "function",
    "builtin_function_or_method",
    "instance",
    "_Feature"
   ],
   "window_display": false
  },
  "widgets": {
   "state": {
    "7b4979ccce374be0b962ea708dd689e2": {
     "views": [
      {
       "cell_index": 10
      }
     ]
    }
   },
   "version": "1.2.0"
  }
 },
 "nbformat": 4,
 "nbformat_minor": 2
}
