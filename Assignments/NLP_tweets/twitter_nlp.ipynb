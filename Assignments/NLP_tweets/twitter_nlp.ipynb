{
 "cells": [
  {
   "cell_type": "markdown",
   "metadata": {},
   "source": [
    "# A Very Brief Intro to Natural Language Processing"
   ]
  },
  {
   "cell_type": "markdown",
   "metadata": {},
   "source": [
    "## Regular expressions"
   ]
  },
  {
   "cell_type": "markdown",
   "metadata": {},
   "source": [
    "The fastest way to find patterns in strings is to use a library that can match so-called regular expressions. In Python, it is the `re` library that does the trick, but regular expressions are also common in other languages, and the syntax remains almost identical in every case. \n",
    "\n",
    "You can even use regexp search and replace in most text editors, for example while editing LaTeX files, or code on your computer. `grep` and `sed` also understand regular expressions in the terminal. Thus, once mastered, regexps are going to appear in almost each and every one of your works or data cleaning. Below, some common everyday examples are shown, alongside with the Python usage.\n",
    "\n",
    "As to learning the syntax, check out the first two links:\n",
    "\n",
    "* This is a quite good introduction:\n",
    "http://www.zytrax.com/tech/web/regex.htm\n",
    "\n",
    "* This is a really good tutorial that shows how regular expressions match or do not match:\n",
    "https://regexone.com/\n",
    "\n",
    "* And this link covers Pythons regex library as a starter.\n",
    "https://developers.google.com/edu/python/regular-expressions"
   ]
  },
  {
   "cell_type": "markdown",
   "metadata": {},
   "source": [
    "### The `re` library in Python"
   ]
  },
  {
   "cell_type": "code",
   "execution_count": 1,
   "metadata": {},
   "outputs": [],
   "source": [
    "# importing the library\n",
    "import re"
   ]
  },
  {
   "cell_type": "markdown",
   "metadata": {},
   "source": [
    "This is a hello world example for the `re` library."
   ]
  },
  {
   "cell_type": "code",
   "execution_count": 2,
   "metadata": {},
   "outputs": [
    {
     "data": {
      "text/plain": [
       "['apple', 'pear', 'plum', 'cherries']"
      ]
     },
     "execution_count": 2,
     "metadata": {},
     "output_type": "execute_result"
    }
   ],
   "source": [
    "re.findall('\\w+','apple pear plum cherries')"
   ]
  },
  {
   "cell_type": "markdown",
   "metadata": {},
   "source": [
    "The file `robinson.txt` contains Defoe's famous novel downloaded from the website of the [Project Gutenberg](http://www.gutenberg.org). Let's count how many times the pronoun `the` appears in the novel!"
   ]
  },
  {
   "cell_type": "code",
   "execution_count": 3,
   "metadata": {},
   "outputs": [],
   "source": [
    "robinson = open('robinson.txt').read()"
   ]
  },
  {
   "cell_type": "code",
   "execution_count": 4,
   "metadata": {},
   "outputs": [
    {
     "data": {
      "text/plain": [
       "20623"
      ]
     },
     "execution_count": 4,
     "metadata": {},
     "output_type": "execute_result"
    }
   ],
   "source": [
    "len(re.findall('the',robinson))"
   ]
  },
  {
   "cell_type": "markdown",
   "metadata": {},
   "source": [
    "Let's extract possible names beginning with a capital `F` from the novel.We exclude words that are supposed to be at the beginning of a sentence."
   ]
  },
  {
   "cell_type": "code",
   "execution_count": 5,
   "metadata": {},
   "outputs": [],
   "source": [
    "# this is a find and replace command for strings\n",
    "# arguments are old_pattern, new_pattern, string\n",
    "# returns substituted string\n",
    "robinson_no_newlines = re.sub('\\n',' ',robinson)"
   ]
  },
  {
   "cell_type": "markdown",
   "metadata": {},
   "source": [
    "Because of the above excluding conditions, we check the preceding two characters of the names. But we would only like to return the names themselves without the preceding characters. Therefore, we use group capturing by putting brackets around the desired parts `()`, which makes sure that `re.findall` only returns the matched groups, not the whole pattern. If we capture more than one group, the returned list would contain tuples."
   ]
  },
  {
   "cell_type": "code",
   "execution_count": 6,
   "metadata": {},
   "outputs": [
    {
     "data": {
      "text/plain": [
       "{'Father',\n",
       " 'February',\n",
       " 'Fernand',\n",
       " 'Finland',\n",
       " 'Firma',\n",
       " 'First',\n",
       " 'Flanders',\n",
       " 'Fontarabia',\n",
       " 'Formosa',\n",
       " 'Fowling',\n",
       " 'France',\n",
       " 'French',\n",
       " 'Frenchman',\n",
       " 'Friday',\n",
       " 'Frozen',\n",
       " 'Frye',\n",
       " 'Fyal'}"
      ]
     },
     "execution_count": 6,
     "metadata": {},
     "output_type": "execute_result"
    }
   ],
   "source": [
    "set(re.findall('[^\\.!\\?\" ] (F[a-z]+)',robinson_no_newlines))"
   ]
  },
  {
   "cell_type": "markdown",
   "metadata": {},
   "source": [
    "### Some command line examples"
   ]
  },
  {
   "cell_type": "markdown",
   "metadata": {},
   "source": [
    "Reformatting the output of `uniq -c`!"
   ]
  },
  {
   "cell_type": "code",
   "execution_count": 7,
   "metadata": {},
   "outputs": [
    {
     "name": "stdout",
     "output_type": "stream",
     "text": [
      "45,0.00\r\n",
      "101,0.01\r\n",
      "103,0.02\r\n",
      "104,0.03\r\n",
      "109,0.04\r\n",
      "85,0.05\r\n",
      "101,0.06\r\n",
      "97,0.07\r\n",
      "99,0.08\r\n",
      "107,0.09\r\n"
     ]
    }
   ],
   "source": [
    "!cat random.txt | sed 's/ /\\n/g' | sort -n | uniq -c | sed -e 's/^\\s*//g' | sed -e 's/ /,/g' | head"
   ]
  },
  {
   "cell_type": "markdown",
   "metadata": {},
   "source": [
    "Adding `0.` to floats smaller than `1`."
   ]
  },
  {
   "cell_type": "code",
   "execution_count": 8,
   "metadata": {},
   "outputs": [
    {
     "name": "stdout",
     "output_type": "stream",
     "text": [
      "# This is a sample file for illustration purposes.\r\n",
      "# This is a comment line.\r\n",
      "But this is not, it just happens to contain a '#'.\r\n",
      "0.3\r\n",
      "0.4\r\n",
      "0.64\r\n",
      "1.45\r\n",
      "2.5\r\n"
     ]
    }
   ],
   "source": [
    "!cat sample.txt | sed -e 's/^\\./0\\./g'"
   ]
  },
  {
   "cell_type": "markdown",
   "metadata": {},
   "source": [
    "Excluding comment lines."
   ]
  },
  {
   "cell_type": "code",
   "execution_count": 9,
   "metadata": {},
   "outputs": [
    {
     "name": "stdout",
     "output_type": "stream",
     "text": [
      "But this is not, it just happens to contain a '#'.\r\n",
      ".3\r\n",
      ".4\r\n",
      ".64\r\n",
      "1.45\r\n",
      "2.5\r\n"
     ]
    }
   ],
   "source": [
    "!cat sample.txt | grep -ve '^#'"
   ]
  },
  {
   "cell_type": "markdown",
   "metadata": {},
   "source": [
    "*Disclaimer: the following cells don't run here, but they all come from the bash history of the various computers I use in my work.*"
   ]
  },
  {
   "cell_type": "markdown",
   "metadata": {},
   "source": [
    "Very real-world example: if you tend to forget about newline characters when dumping out streamlined `JSON` results from a program, this line breaks your one-liner output to multiple lines."
   ]
  },
  {
   "cell_type": "code",
   "execution_count": 10,
   "metadata": {},
   "outputs": [
    {
     "name": "stdout",
     "output_type": "stream",
     "text": [
      "cat: gravity_res_big.json: No such file or directory\r\n"
     ]
    }
   ],
   "source": [
    "!cat gravity_res_big.json | sed -e \"s/}{/}\\n{/g\" > gravity_res_big_formatted.json"
   ]
  },
  {
   "cell_type": "markdown",
   "metadata": {},
   "source": [
    "Deleting numerical columns from a csv file, where the last column is a string, I forgot to exclude commas or weird characters from this last column on the output dump, I also forgot to put the string into quotation marks, but I'd like to have a look at it nevertheless."
   ]
  },
  {
   "cell_type": "code",
   "execution_count": 11,
   "metadata": {},
   "outputs": [
    {
     "name": "stdout",
     "output_type": "stream",
     "text": [
      "head: cannot open 'illustration_boston_frequent_tweeters.csv' for reading: No such file or directory\r\n"
     ]
    }
   ],
   "source": [
    "!head illustration_boston_frequent_tweeters.csv | sed -e 's/\\([-0-9\\.]*,\\)//g'"
   ]
  },
  {
   "cell_type": "markdown",
   "metadata": {},
   "source": [
    "This used to be the head of the file:"
   ]
  },
  {
   "cell_type": "raw",
   "metadata": {},
   "source": [
    "22059301,1001,164803294986907650,42.3618604,-71.0549768,Mullen: Associate Content Manager ( #Boston  MA) http://t.co/1KTl1dN8 #Marketing #Job #Jobs #TweetMyJobs\n",
    "22059301,1001,164803298619174912,42.3618604,-71.0549768,#TweetMyJobs #Marketing #Job alert: Digital Art Director | Mullen | #Boston  MA http://t.co/OycWXFHO #Jobs\n",
    "22059301,1001,164864008439070720,42.3669576,-71.0878778,Ironwood Pharmaceuticals Inc.: Patient Marketing Leader: linaclotide ( #Cambridge  MA) http://t.co/EtwQUix7 #Marketing #Job #Jobs\n",
    "22059301,1001,164864208079568897,42.3669576,-71.0878778,Ironwood Pharmaceuticals Inc.: Director/Senior Director Payor & Pricing ( #Cambridge  MA) http://t.co/0EUxSKAd #Marketing #Job #Jobs\n",
    "22059301,1001,164864267345080323,42.3584308,-71.0597732,MK50 - Marketing A... - Kelly Financial Resources: ( #Boston  MA) http://t.co/tol3stZI #Marketing #KellyJobs #KellyServices #Job #Jobs\n",
    "22059301,1001,164864464812912641,42.3584308,-71.0597732,Public Relations Manager (375883) - Boston Harbor ... - Pyramid Hotel Group: ( #Boston  MA) http://t.co/V52xxdaF #Marketing #Job #Jobs\n",
    "22059301,1001,164864640839467009,42.3669576,-71.0878778,#TweetMyJobs #Marketing #Job alert: Regional Sales Manager | Ironwood Pharmaceuticals Inc. | #Cambridge  MA http://t.co/40JMlswe #Jobs\n",
    "22059301,1001,164864801951072256,42.3584308,-71.0597732,Manulife Financial/John Hancock #Marketing #Job: Marketing Assistant - Other ( #Boston  MA) http://t.co/m3MrMCgL #Jobs #TweetMyJobs\n",
    "22059301,1001,164869115096473600,42.3584308,-71.0597732,Manulife Financial/John Hancock: Senior Production Coordinator - Marketin... ( #Boston  MA) http://t.co/kAKvMEzQ #Marketing #Job #Jobs\n",
    "22059301,1001,164869169802784768,42.5465306,-71.2517835,Lab Water Field Marketing Manager - EMD Millipore: ( #Billerica  MA) http://t.co/i8goLPQV #Marketing #Job #Jobs #TweetMyJobs"
   ]
  },
  {
   "cell_type": "markdown",
   "metadata": {},
   "source": [
    "## How to feed a text to the computer?"
   ]
  },
  {
   "cell_type": "markdown",
   "metadata": {},
   "source": [
    "First of all, we want to decide what elements we want as building blocks. A common approach is to break the text down to words. But even this task is not that simple as it first seems. The next string contains an example message of Donald Trump from the Twitter social network.\n",
    "\n",
    "Possible problems:\n",
    "* lower and uppercase\n",
    "* punctuation\n",
    "* emojis\n",
    "* character encoding\n",
    "* named entity recognition..."
   ]
  },
  {
   "cell_type": "code",
   "execution_count": 12,
   "metadata": {},
   "outputs": [],
   "source": [
    "trump_tweet = 'Having great meetings and discussions with my friend, President @EmmanuelMacron of France. We are in the midst of meetings on Iran, Syria and Trade. We will be holding a joint press conference shortly, here at the @WhiteHouse. 🇺🇸🇫🇷'"
   ]
  },
  {
   "cell_type": "markdown",
   "metadata": {},
   "source": [
    "Does this work?"
   ]
  },
  {
   "cell_type": "code",
   "execution_count": 13,
   "metadata": {},
   "outputs": [
    {
     "name": "stdout",
     "output_type": "stream",
     "text": [
      "having great meetings and discussions with my friend president emmanuelmacron of france we are in the midst of meetings on iran syria and trade we will be holding a joint press conference shortly here at the whitehouse\n"
     ]
    }
   ],
   "source": [
    "print(' '.join(re.findall('\\w+',trump_tweet.lower())))"
   ]
  },
  {
   "cell_type": "markdown",
   "metadata": {},
   "source": [
    "## nltk"
   ]
  },
  {
   "cell_type": "markdown",
   "metadata": {},
   "source": [
    "\"NLTK is a leading platform for building Python programs to work with human language data. It provides easy-to-use interfaces to over 50 corpora and lexical resources such as WordNet, along with a suite of text processing libraries for classification, tokenization, stemming, tagging, parsing, and semantic reasoning, wrappers for industrial-strength NLP libraries, and an active discussion forum.\""
   ]
  },
  {
   "cell_type": "code",
   "execution_count": 14,
   "metadata": {},
   "outputs": [],
   "source": [
    "import nltk"
   ]
  },
  {
   "cell_type": "markdown",
   "metadata": {},
   "source": [
    "Let's have a look at our former task."
   ]
  },
  {
   "cell_type": "code",
   "execution_count": 15,
   "metadata": {},
   "outputs": [
    {
     "name": "stdout",
     "output_type": "stream",
     "text": [
      "having great meetings and discussions with my friend , president @ emmanuelmacron of france . we are in the midst of meetings on iran , syria and trade . we will be holding a joint press conference shortly , here at the @ whitehouse . 🇺🇸🇫🇷\n"
     ]
    }
   ],
   "source": [
    "print(' '.join(nltk.word_tokenize(trump_tweet.lower())))"
   ]
  },
  {
   "cell_type": "markdown",
   "metadata": {},
   "source": [
    "Look for a good tweet tokenizer that has Twitter-specific regular expressions built-in either within `nltk` or outside!\n",
    "http://www.nltk.org/api/nltk.tokenize.html"
   ]
  },
  {
   "cell_type": "markdown",
   "metadata": {},
   "source": [
    "## Stemming"
   ]
  },
  {
   "cell_type": "markdown",
   "metadata": {},
   "source": [
    "If we are interested in the core meaning, often we can throw away third person forms or plurals etc."
   ]
  },
  {
   "cell_type": "code",
   "execution_count": 16,
   "metadata": {},
   "outputs": [
    {
     "name": "stdout",
     "output_type": "stream",
     "text": [
      "having -> having\n",
      "great -> great\n",
      "meetings -> meet\n",
      "and -> and\n",
      "discussions -> discuss\n",
      "with -> with\n",
      "my -> my\n",
      "friend -> friend\n",
      ", -> ,\n",
      "president -> presid\n"
     ]
    }
   ],
   "source": [
    "from nltk.stem import SnowballStemmer\n",
    "\n",
    "snow = SnowballStemmer('english',ignore_stopwords=True)\n",
    "for word in nltk.word_tokenize(trump_tweet.lower())[0:10]:\n",
    "    print(word,'->',snow.stem(word))"
   ]
  },
  {
   "cell_type": "markdown",
   "metadata": {},
   "source": [
    "## Term-document matrix"
   ]
  },
  {
   "cell_type": "markdown",
   "metadata": {},
   "source": [
    "A useful algebraic concept for representing a collection of texts is having a matrix. On this matrix, it is possible to try many concepts and methods from linear algebra, machine learning etc.\n",
    "\n",
    "https://en.wikipedia.org/wiki/Document-term_matrix"
   ]
  },
  {
   "cell_type": "markdown",
   "metadata": {},
   "source": [
    "Let us have a look at such a matrix on some Trump tweets again http://www.trumptwitterarchive.com/archive:"
   ]
  },
  {
   "cell_type": "code",
   "execution_count": 17,
   "metadata": {},
   "outputs": [],
   "source": [
    "import pandas as pd\n",
    "from sklearn.feature_extraction.text import CountVectorizer,TfidfVectorizer\n",
    "from sklearn.decomposition import LatentDirichletAllocation\n",
    "import numpy as np\n",
    "\n",
    "import matplotlib.pyplot as plt\n",
    "%matplotlib inline"
   ]
  },
  {
   "cell_type": "markdown",
   "metadata": {},
   "source": [
    "The file `corpus.txt` contains the president's tweets downloaded from the archive. It is a small collection of wikipedia articles fromt he disciplines of chemical physics (21 articles), experimental physics (24 articles), and computational biology (18 articles)."
   ]
  },
  {
   "cell_type": "code",
   "execution_count": 34,
   "metadata": {},
   "outputs": [],
   "source": [
    "trumptweets = pd.read_csv('corpus.txt',header=None)\n",
    "#trumptweets.dropna(subset=[\"text\"],inplace=True)"
   ]
  },
  {
   "cell_type": "markdown",
   "metadata": {},
   "source": [
    "Let's make an array counting the occurrence of words in each tweet!"
   ]
  },
  {
   "cell_type": "code",
   "execution_count": 37,
   "metadata": {},
   "outputs": [
    {
     "data": {
      "text/plain": [
       "matrix([[0, 0, 0, ..., 0, 1, 0],\n",
       "        [0, 0, 0, ..., 1, 0, 0],\n",
       "        [1, 1, 1, ..., 0, 0, 1]], dtype=int64)"
      ]
     },
     "execution_count": 37,
     "metadata": {},
     "output_type": "execute_result"
    }
   ],
   "source": [
    "c = CountVectorizer()\n",
    "c.fit_transform(trumptweets.head(3)[0].tolist()).todense()"
   ]
  },
  {
   "cell_type": "code",
   "execution_count": 38,
   "metadata": {},
   "outputs": [
    {
     "data": {
      "text/plain": [
       "'above absorption abundance accomplished according achieved act actual addition aggregate albert all allowing already also although american an analytical and anderson angular another any appear applicable application are around as atomic atoms available awarded ball based basis be because been being below between biological bonds both branch branches but by can carver case centre certain change characterizing chemical chemistry close common commonly compensate complete component components compounds conditions conduction confirm conformation conjunction connected consequently consists constant controlled corresponds could coupled coupling cross currently decreases demonstrated demonstrating derived described determine did different differs dimensional dipole discovery distances do due each early effect effectively electron electronic electrons energy engineering enhanced entire equations essentially etc examined excitation exhibit experiment experimental experimentally explains explanation extension far field fine first following for formula freedom frequency from gap gas general generally give given gravity ground had has have helium help here higher highly however impossible impractical in increases infrared intensities inter into investigation involves irradiation is isotopes it its kinetic kinetics known light like linear liquid macromolecules magnetic make many mass matter mechanical medium metals methods microwave model molecular molecule molecules momenta most much nanotechnology natural nature necessary need nmr no nobel noe non not nuclear number object observation observe observed observing obvious occur occurs of often one only or order organic other otherwise overhauser particles peak peaks perhaps phenomenon photons physicist planck polarization population positions possible practice precise predicted prediction presence prize proceeds properties proposed published quantum radiation raman rather ratio referred region relaxation requires resonance results rigid rotational rotor rule see selection seminal shell should show shown similarly simultaneously slichter slightly small so solomon solution solvation solvent solvents some space spacing species spectra spectroscopic spectroscopy spectrum speed spin spins state states strongest structure structures studied subsequent successfully such superfluid suspended techniques than that the their then theoretical theoretically there these this three through thus to together tools totally transfer transferred transition transitions two under unpaired upon use used useful using variation vector verified very via viable vibration vibrational was well when where whereas which who will with without work would'"
      ]
     },
     "execution_count": 38,
     "metadata": {},
     "output_type": "execute_result"
    }
   ],
   "source": [
    "' '.join(c.get_feature_names())"
   ]
  },
  {
   "cell_type": "markdown",
   "metadata": {},
   "source": [
    "First, we have to create our own tokenizer, because the built-in one leaves us with punctuation marks and numbers."
   ]
  },
  {
   "cell_type": "code",
   "execution_count": 39,
   "metadata": {},
   "outputs": [],
   "source": [
    "tt = nltk.tokenize.TweetTokenizer(preserve_case=True,strip_handles=True,reduce_len=True)\n",
    "ss = nltk.stem.SnowballStemmer('english')"
   ]
  },
  {
   "cell_type": "code",
   "execution_count": 40,
   "metadata": {},
   "outputs": [],
   "source": [
    "def custom_tokenizer(text):\n",
    "    \"\"\"\n",
    "    The input is the string to tokenize.\n",
    "    \n",
    "    The output is the list of desired words.\n",
    "    \"\"\"\n",
    "    words = tt.tokenize(text)\n",
    "    return [ss.stem(w) for w in words if re.match('^[a-z]+$',w)!=None]"
   ]
  },
  {
   "cell_type": "markdown",
   "metadata": {},
   "source": [
    "Creating the TF-IDF matrix."
   ]
  },
  {
   "cell_type": "code",
   "execution_count": 41,
   "metadata": {},
   "outputs": [
    {
     "name": "stderr",
     "output_type": "stream",
     "text": [
      "/home/bokanyie/.anaconda3/lib/python3.7/site-packages/sklearn/feature_extraction/text.py:385: UserWarning: Your stop_words may be inconsistent with your preprocessing. Tokenizing the stop words generated tokens ['abov', 'afterward', 'alon', 'alreadi', 'alway', 'ani', 'anoth', 'anyon', 'anyth', 'anywher', 'becam', 'becaus', 'becom', 'befor', 'besid', 'cri', 'describ', 'dure', 'els', 'elsewher', 'empti', 'everi', 'everyon', 'everyth', 'everywher', 'fifti', 'forti', 'henc', 'hereaft', 'herebi', 'howev', 'hundr', 'inde', 'mani', 'meanwhil', 'moreov', 'nobodi', 'noon', 'noth', 'nowher', 'onc', 'onli', 'otherwis', 'ourselv', 'perhap', 'pleas', 'sever', 'sinc', 'sincer', 'sixti', 'someon', 'someth', 'sometim', 'somewher', 'themselv', 'thenc', 'thereaft', 'therebi', 'therefor', 'togeth', 'twelv', 'twenti', 'veri', 'whatev', 'whenc', 'whenev', 'wherea', 'whereaft', 'wherebi', 'wherev', 'whi', 'yourselv'] not in stop_words.\n",
      "  'stop_words.' % sorted(inconsistent))\n"
     ]
    },
    {
     "name": "stdout",
     "output_type": "stream",
     "text": [
      "(63, 579)\n"
     ]
    }
   ],
   "source": [
    "c = TfidfVectorizer(tokenizer=custom_tokenizer,stop_words='english',min_df=5,norm='l2')\n",
    "# trumptweets.text.str.contains('Clinton')\n",
    "X = c.fit_transform(trumptweets[0])\n",
    "print(X.shape)\n",
    "words = c.get_feature_names()"
   ]
  },
  {
   "cell_type": "markdown",
   "metadata": {},
   "source": [
    "Fitting an LDA model to it."
   ]
  },
  {
   "cell_type": "code",
   "execution_count": 42,
   "metadata": {},
   "outputs": [],
   "source": [
    "l = LatentDirichletAllocation(n_components=3,n_jobs=-1)\n",
    "T = l.fit_transform(X)\n",
    "W = l.components_"
   ]
  },
  {
   "cell_type": "code",
   "execution_count": 43,
   "metadata": {},
   "outputs": [
    {
     "name": "stderr",
     "output_type": "stream",
     "text": [
      "No handles with labels found to put in legend.\n"
     ]
    },
    {
     "data": {
      "image/png": "[encoded data removed]",
      "text/plain": [
       "<Figure size 1080x360 with 1 Axes>"
      ]
     },
     "metadata": {
      "needs_background": "light"
     },
     "output_type": "display_data"
    }
   ],
   "source": [
    "plt.figure(figsize=(15,5))\n",
    "plt.plot(T,markersize=1)\n",
    "plt.xlabel('Tweets')\n",
    "plt.ylabel('Weight in topic')\n",
    "plt.legend()\n",
    "plt.show()"
   ]
  },
  {
   "cell_type": "code",
   "execution_count": 44,
   "metadata": {},
   "outputs": [
    {
     "name": "stderr",
     "output_type": "stream",
     "text": [
      "No handles with labels found to put in legend.\n"
     ]
    },
    {
     "data": {
      "image/png": "[encoded data removed]",
      "text/plain": [
       "<Figure size 1080x360 with 1 Axes>"
      ]
     },
     "metadata": {
      "needs_background": "light"
     },
     "output_type": "display_data"
    }
   ],
   "source": [
    "plt.figure(figsize=(15,5))\n",
    "plt.plot(W.T,'-',markersize=1)\n",
    "plt.xlabel('Words')\n",
    "plt.ylabel('Weight in topic')\n",
    "plt.legend()\n",
    "plt.show()"
   ]
  },
  {
   "cell_type": "code",
   "execution_count": 45,
   "metadata": {},
   "outputs": [
    {
     "name": "stdout",
     "output_type": "stream",
     "text": [
      "Topic 0: employ, lack, goal, prior, opportun, key, attempt, futur, progress, genom, varieti, accuraci, avoid, data, network, demand, event, necessarili, fold, error, \n",
      "\n",
      "Topic 1: d, employ, extent, begin, progress, attempt, everi, prior, key, necessarili, appear, discuss, demand, lack, aris, varieti, aid, divers, futur, opportun, \n",
      "\n",
      "Topic 2: lack, employ, goal, opportun, prior, key, futur, attempt, progress, accuraci, varieti, genom, avoid, data, demand, event, network, fold, better, error, \n",
      "\n"
     ]
    }
   ],
   "source": [
    "for i,line in enumerate(W):\n",
    "    print(\"Topic \"+str(i)+\": \",end=\"\")\n",
    "    ind = np.argsort(line)[0:20]\n",
    "    for elem in ind:\n",
    "        print(words[elem]+\", \",end=\"\")\n",
    "    print(\"\\n\")"
   ]
  },
  {
   "cell_type": "markdown",
   "metadata": {},
   "source": [
    "## Other questions\n",
    "\n",
    "What to do when the texts do not have the same length? How to exclude not relevant words? How to make a weighting scheme for our purposes?\n",
    "\n",
    "How to deal with the 'timeseries' nature of texts? What inputs do neural networks expect?"
   ]
  }
 ],
 "metadata": {
  "hide_input": false,
  "kernelspec": {
   "display_name": "Python 3",
   "language": "python",
   "name": "python3"
  },
  "language_info": {
   "codemirror_mode": {
    "name": "ipython",
    "version": 3
   },
   "file_extension": ".py",
   "mimetype": "text/x-python",
   "name": "python",
   "nbconvert_exporter": "python",
   "pygments_lexer": "ipython3",
   "version": "3.7.3"
  }
 },
 "nbformat": 4,
 "nbformat_minor": 2
}
