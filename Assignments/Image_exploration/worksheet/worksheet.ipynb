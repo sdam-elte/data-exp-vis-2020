{
 "cells": [
  {
   "cell_type": "markdown",
   "metadata": {},
   "source": [
    "# Image processing\n",
    "\n",
    "## Excercise 1: Image segmentation\n",
    "\n",
    "Please choose either of these two excercises.\n",
    "\n",
    "### Excercise 1.a\n",
    "\n",
    "<img src=\"candy.jpg\" width='100px'>\n",
    "\n",
    "Load an RGB image from the file `candy.jpg`. Count the number of objects of different colors.\n",
    "\n",
    "### Excercise 1.b\n",
    "\n",
    "<img src=\"AirsoftBB.png\" width='100px'>\n",
    "\n",
    "There are several images of a mixture of Airsoft BBs in `/home/course/ImageExploration/SmallBalls/`. These images are from a granular segregation experiment, where the balls have different surface roughness according to their color and therefore the friction varies as well while the content of the bowl was stirred. \n",
    "\n",
    "Try to distinguish between the two kind of balls and find out their ratio in each image! "
   ]
  },
  {
   "cell_type": "code",
   "execution_count": null,
   "metadata": {},
   "outputs": [],
   "source": []
  },
  {
   "cell_type": "markdown",
   "metadata": {},
   "source": [
    "## Excercise 2: Sudoku\n",
    "\n",
    "<img src=\"sudoku.jpg\" width='200px'>\n",
    "\n",
    "Load an RGB image from `sudoku.jpg` or an arbitrary file from `/home/course/ImageExploration/Sudoku/` folder. Convert it to grayscale. Try to find the border of the sudoku table and correct for the perspective until the table looks as rectangular as possible. Check if the image suffers from the camera lens distortion. Find the squares containing numbers and propose an algorythm to recognize the numbers?"
   ]
  },
  {
   "cell_type": "code",
   "execution_count": null,
   "metadata": {},
   "outputs": [],
   "source": []
  },
  {
   "cell_type": "markdown",
   "metadata": {},
   "source": [
    "## Excercise 3: Count the cars in the street\n",
    "\n",
    "There is a multitude of live camera streams to find and access on the Internet. In the [https://www.idokep.hu](https://www.idokep.hu) weather forecast site two of them have a good view of streets along the Danube:\n",
    "\n",
    "* `https://stream.idokep.hu/live/hotelvictoria/s_orig.m3u8`\n",
    "* `https://stream.idokep.hu/live/hotelvictoria2/s_orig.m3u8`\n",
    "\n",
    "<img src=\"camera_stream.png\" width='300px'>\n",
    "\n",
    "Choose a stream you like and try to identify parts that are in motion in the video. Try track the movement of those parts like cars, bicycles or ships. Do some statistics like how long silent periods are, how many objects of interest are shown at once or how the speed of these objects is distributed. If you manage to carry out measurements in a longer period check if you can see patterns in the temporal evolutions, the source of which is the human factor."
   ]
  },
  {
   "cell_type": "code",
   "execution_count": null,
   "metadata": {},
   "outputs": [],
   "source": []
  }
 ],
 "metadata": {
  "kernelspec": {
   "display_name": "Python 3",
   "language": "python",
   "name": "python3"
  },
  "language_info": {
   "codemirror_mode": {
    "name": "ipython",
    "version": 3
   },
   "file_extension": ".py",
   "mimetype": "text/x-python",
   "name": "python",
   "nbconvert_exporter": "python",
   "pygments_lexer": "ipython3",
   "version": "3.7.3"
  }
 },
 "nbformat": 4,
 "nbformat_minor": 4
}
